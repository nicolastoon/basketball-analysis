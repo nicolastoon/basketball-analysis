{
 "cells": [
  {
   "cell_type": "code",
   "execution_count": 3,
   "id": "84eff710",
   "metadata": {},
   "outputs": [],
   "source": [
    "import pandas as pd\n",
    "import numpy as np\n",
    "import plotly.express as px\n",
    "import os\n",
    "from IPython.display import display"
   ]
  },
  {
   "cell_type": "code",
   "execution_count": 4,
   "id": "33bd0feb",
   "metadata": {},
   "outputs": [],
   "source": [
    "def display_full(df):\n",
    "    with pd.option_context('display.max_rows', None, 'display.max_columns', None):\n",
    "        display(df)"
   ]
  },
  {
   "cell_type": "code",
   "execution_count": 12,
   "id": "41207592",
   "metadata": {},
   "outputs": [],
   "source": [
    "seasons = {}\n",
    "for file in os.listdir('joel-embiid'):\n",
    "    year = int(file[:2] + file[-6:-4])\n",
    "    seasons[year] = pd.read_csv(f'joel-embiid/{file}')"
   ]
  },
  {
   "cell_type": "code",
   "execution_count": null,
   "id": "98db1fdf",
   "metadata": {},
   "outputs": [],
   "source": []
  }
 ],
 "metadata": {
  "kernelspec": {
   "display_name": "base",
   "language": "python",
   "name": "python3"
  },
  "language_info": {
   "codemirror_mode": {
    "name": "ipython",
    "version": 3
   },
   "file_extension": ".py",
   "mimetype": "text/x-python",
   "name": "python",
   "nbconvert_exporter": "python",
   "pygments_lexer": "ipython3",
   "version": "3.12.8"
  }
 },
 "nbformat": 4,
 "nbformat_minor": 5
}
