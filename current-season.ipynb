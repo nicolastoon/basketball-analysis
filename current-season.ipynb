{
 "cells": [
  {
   "cell_type": "code",
   "execution_count": 2,
   "id": "b0f24d48-fbba-4d8f-8a21-6a0167d1a38c",
   "metadata": {},
   "outputs": [
    {
     "data": {
      "text/plain": [
       "'c:\\\\Users\\\\nicol\\\\Documents\\\\GitHub\\\\basketball-analysis'"
      ]
     },
     "execution_count": 2,
     "metadata": {},
     "output_type": "execute_result"
    }
   ],
   "source": [
    "pwd"
   ]
  },
  {
   "cell_type": "code",
   "execution_count": 3,
   "id": "d2c0521e-f23e-4854-a9a9-df2c5780ce2b",
   "metadata": {},
   "outputs": [],
   "source": [
    "import pandas as pd\n",
    "import numpy as np\n",
    "import plotly.express as px\n",
    "from IPython.display import display"
   ]
  },
  {
   "cell_type": "code",
   "execution_count": 4,
   "id": "e8bcbe76-2515-4227-ba07-c315fd1b9b38",
   "metadata": {},
   "outputs": [],
   "source": [
    "def display_full(df):\n",
    "    with pd.option_context('display.max_rows', None, 'display.max_columns', None):\n",
    "        display(df)"
   ]
  },
  {
   "cell_type": "code",
   "execution_count": null,
   "id": "5104648b-38a4-44bc-aa66-ba926d557a77",
   "metadata": {},
   "outputs": [],
   "source": [
    "def drop_box_score(df):\n",
    "    return df.drop(columns='Unnamed: 6')\n",
    "\n",
    "def rename_ot(df):\n",
    "    df = df.rename(columns={'Unnamed: 7': 'OT'})\n",
    "    df['OT'] = df['OT'].replace('OT', '1OT').replace(r'(\\d)OT', r'\\1', regex=True).fillna(0)\n",
    "    return df\n",
    "\n",
    "def transform_dates(df):\n",
    "    df['Date'] = pd.to_datetime(df['Date'])\n",
    "    return df\n",
    "\n",
    "def attendance_to_int(df):\n",
    "    df = df.rename(columns={'Attend.': 'Attendance'})\n",
    "    df['Attendance'] = df['Attendance'].astype(int)\n",
    "    return df\n",
    "\n",
    "def log_to_minutes(df):\n",
    "    df['LOG'] = (df['LOG'].str[0].astype(int) * 60) + (df['LOG'].str[-2:].astype(int))\n",
    "    return df\n",
    " \n",
    "def preprocess(df):\n",
    "    return (df.pipe(drop_box_score)\n",
    "            .pipe(rename_ot)\n",
    "            .pipe(transform_dates)\n",
    "            .pipe(attendance_to_int)\n",
    "            # .pipe(log_to_minutes) LOG column contains nan values\n",
    "           )"
   ]
  },
  {
   "cell_type": "code",
   "execution_count": 65,
   "id": "5da44945",
   "metadata": {},
   "outputs": [],
   "source": [
    "october = pd.read_csv('2024-reg-season/october-schedule.txt')\n",
    "october = october.rename(columns={'VisitorNeutral': 'Visitor/Neutral', 'HomeNeutral': 'Home/Neutral'})\n",
    "october['Start (ET)'] = october['Start (ET)'].str.replace(r'(\\d{1,2})(\\d{2})(.)', r'\\1:\\2\\3', regex=True)\n",
    "october['LOG'] = october['LOG'].astype(str).str.replace(r'(\\d)(\\d{2})', r'\\1:\\2', regex=True)"
   ]
  },
  {
   "cell_type": "code",
   "execution_count": 66,
   "id": "a0d118da-6c1c-4970-910b-e820de0a5553",
   "metadata": {},
   "outputs": [],
   "source": [
    "october = preprocess(october)\n",
    "november = preprocess(pd.read_csv('2024-reg-season/november-schedule.txt'))\n",
    "december = preprocess(pd.read_csv('2024-reg-season/december-schedule.txt'))\n",
    "january = preprocess(pd.read_csv('2024-reg-season/january-schedule.txt'))\n",
    "february = preprocess(pd.read_csv('2024-reg-season/february-schedule.txt'))\n",
    "march = preprocess(pd.read_csv('2024-reg-season/march-schedule.txt'))\n",
    "april = preprocess(pd.read_csv('2024-reg-season/april-schedule.txt'))"
   ]
  },
  {
   "cell_type": "code",
   "execution_count": 67,
   "id": "7eaa1e44-9e19-4d2c-8cc7-2ac17f7e6e7f",
   "metadata": {},
   "outputs": [
    {
     "data": {
      "text/html": [
       "<div>\n",
       "<style scoped>\n",
       "    .dataframe tbody tr th:only-of-type {\n",
       "        vertical-align: middle;\n",
       "    }\n",
       "\n",
       "    .dataframe tbody tr th {\n",
       "        vertical-align: top;\n",
       "    }\n",
       "\n",
       "    .dataframe thead th {\n",
       "        text-align: right;\n",
       "    }\n",
       "</style>\n",
       "<table border=\"1\" class=\"dataframe\">\n",
       "  <thead>\n",
       "    <tr style=\"text-align: right;\">\n",
       "      <th></th>\n",
       "      <th>Date</th>\n",
       "      <th>Start (ET)</th>\n",
       "      <th>Visitor/Neutral</th>\n",
       "      <th>PTS</th>\n",
       "      <th>Home/Neutral</th>\n",
       "      <th>PTS.1</th>\n",
       "      <th>OT</th>\n",
       "      <th>Attendance</th>\n",
       "      <th>LOG</th>\n",
       "      <th>Arena</th>\n",
       "      <th>Notes</th>\n",
       "    </tr>\n",
       "  </thead>\n",
       "  <tbody>\n",
       "    <tr>\n",
       "      <th>0</th>\n",
       "      <td>2024-10-22</td>\n",
       "      <td>7:30p</td>\n",
       "      <td>New York Knicks</td>\n",
       "      <td>109</td>\n",
       "      <td>Boston Celtics</td>\n",
       "      <td>132</td>\n",
       "      <td>0</td>\n",
       "      <td>19156</td>\n",
       "      <td>2:04</td>\n",
       "      <td>TD Garden</td>\n",
       "      <td>NaN</td>\n",
       "    </tr>\n",
       "    <tr>\n",
       "      <th>1</th>\n",
       "      <td>2024-10-22</td>\n",
       "      <td>10:00p</td>\n",
       "      <td>Minnesota Timberwolves</td>\n",
       "      <td>103</td>\n",
       "      <td>Los Angeles Lakers</td>\n",
       "      <td>110</td>\n",
       "      <td>0</td>\n",
       "      <td>18997</td>\n",
       "      <td>2:26</td>\n",
       "      <td>Crypto.com Arena</td>\n",
       "      <td>NaN</td>\n",
       "    </tr>\n",
       "    <tr>\n",
       "      <th>2</th>\n",
       "      <td>2024-10-23</td>\n",
       "      <td>7:00p</td>\n",
       "      <td>Indiana Pacers</td>\n",
       "      <td>115</td>\n",
       "      <td>Detroit Pistons</td>\n",
       "      <td>109</td>\n",
       "      <td>0</td>\n",
       "      <td>20062</td>\n",
       "      <td>2:23</td>\n",
       "      <td>Little Caesars Arena</td>\n",
       "      <td>NaN</td>\n",
       "    </tr>\n",
       "    <tr>\n",
       "      <th>3</th>\n",
       "      <td>2024-10-23</td>\n",
       "      <td>7:30p</td>\n",
       "      <td>Brooklyn Nets</td>\n",
       "      <td>116</td>\n",
       "      <td>Atlanta Hawks</td>\n",
       "      <td>120</td>\n",
       "      <td>0</td>\n",
       "      <td>17548</td>\n",
       "      <td>2:33</td>\n",
       "      <td>State Farm Arena</td>\n",
       "      <td>NaN</td>\n",
       "    </tr>\n",
       "    <tr>\n",
       "      <th>4</th>\n",
       "      <td>2024-10-23</td>\n",
       "      <td>7:30p</td>\n",
       "      <td>Orlando Magic</td>\n",
       "      <td>116</td>\n",
       "      <td>Miami Heat</td>\n",
       "      <td>97</td>\n",
       "      <td>0</td>\n",
       "      <td>19630</td>\n",
       "      <td>2:31</td>\n",
       "      <td>Kaseya Center</td>\n",
       "      <td>NaN</td>\n",
       "    </tr>\n",
       "  </tbody>\n",
       "</table>\n",
       "</div>"
      ],
      "text/plain": [
       "        Date Start (ET)         Visitor/Neutral  PTS        Home/Neutral  \\\n",
       "0 2024-10-22      7:30p         New York Knicks  109      Boston Celtics   \n",
       "1 2024-10-22     10:00p  Minnesota Timberwolves  103  Los Angeles Lakers   \n",
       "2 2024-10-23      7:00p          Indiana Pacers  115     Detroit Pistons   \n",
       "3 2024-10-23      7:30p           Brooklyn Nets  116       Atlanta Hawks   \n",
       "4 2024-10-23      7:30p           Orlando Magic  116          Miami Heat   \n",
       "\n",
       "   PTS.1 OT  Attendance   LOG                 Arena Notes  \n",
       "0    132  0       19156  2:04             TD Garden   NaN  \n",
       "1    110  0       18997  2:26      Crypto.com Arena   NaN  \n",
       "2    109  0       20062  2:23  Little Caesars Arena   NaN  \n",
       "3    120  0       17548  2:33      State Farm Arena   NaN  \n",
       "4     97  0       19630  2:31         Kaseya Center   NaN  "
      ]
     },
     "execution_count": 67,
     "metadata": {},
     "output_type": "execute_result"
    }
   ],
   "source": [
    "schedule = pd.DataFrame()\n",
    "for df in [october, november, december, january, february, march, april]:\n",
    "    schedule = pd.concat([schedule, df]).reset_index(drop=True)\n",
    "schedule.head()"
   ]
  },
  {
   "cell_type": "code",
   "execution_count": 32,
   "id": "81cb6546-e8e5-4950-ac60-e7bd25d990d8",
   "metadata": {
    "scrolled": true
   },
   "outputs": [],
   "source": [
    "team_abbrev = {\n",
    "    \"Atlanta Hawks\": \"ATL\",\n",
    "    \"Boston Celtics\": \"BOS\",\n",
    "    \"Brooklyn Nets\": \"BKN\",\n",
    "    \"Charlotte Hornets\": \"CHA\",\n",
    "    \"Chicago Bulls\": \"CHI\",\n",
    "    \"Cleveland Cavaliers\": \"CLE\",\n",
    "    \"Dallas Mavericks\": \"DAL\",\n",
    "    \"Denver Nuggets\": \"DEN\",\n",
    "    \"Detroit Pistons\": \"DET\",\n",
    "    \"Golden State Warriors\": \"GSW\",\n",
    "    \"Houston Rockets\": \"HOU\",\n",
    "    \"Indiana Pacers\": \"IND\",\n",
    "    \"Los Angeles Clippers\": \"LAC\",\n",
    "    \"Los Angeles Lakers\": \"LAL\",\n",
    "    \"Memphis Grizzlies\": \"MEM\",\n",
    "    \"Miami Heat\": \"MIA\",\n",
    "    \"Milwaukee Bucks\": \"MIL\",\n",
    "    \"Minnesota Timberwolves\": \"MIN\",\n",
    "    \"New Orleans Pelicans\": \"NOP\",\n",
    "    \"New York Knicks\": \"NYK\",\n",
    "    \"Oklahoma City Thunder\": \"OKC\",\n",
    "    \"Orlando Magic\": \"ORL\",\n",
    "    \"Philadelphia 76ers\": \"PHI\",\n",
    "    \"Phoenix Suns\": \"PHX\",\n",
    "    \"Portland Trail Blazers\": \"POR\",\n",
    "    \"Sacramento Kings\": \"SAC\",\n",
    "    \"San Antonio Spurs\": \"SAS\",\n",
    "    \"Toronto Raptors\": \"TOR\",\n",
    "    \"Utah Jazz\": \"UTA\",\n",
    "    \"Washington Wizards\": \"WAS\"\n",
    "}"
   ]
  },
  {
   "cell_type": "code",
   "execution_count": 33,
   "id": "4a5a18ec-5f63-4bc0-b7a3-b6b161fa56b5",
   "metadata": {},
   "outputs": [
    {
     "data": {
      "text/html": [
       "<div>\n",
       "<style scoped>\n",
       "    .dataframe tbody tr th:only-of-type {\n",
       "        vertical-align: middle;\n",
       "    }\n",
       "\n",
       "    .dataframe tbody tr th {\n",
       "        vertical-align: top;\n",
       "    }\n",
       "\n",
       "    .dataframe thead th {\n",
       "        text-align: right;\n",
       "    }\n",
       "</style>\n",
       "<table border=\"1\" class=\"dataframe\">\n",
       "  <thead>\n",
       "    <tr style=\"text-align: right;\">\n",
       "      <th></th>\n",
       "      <th>Date</th>\n",
       "      <th>Start (ET)</th>\n",
       "      <th>Visitor/Neutral</th>\n",
       "      <th>PTS</th>\n",
       "      <th>Home/Neutral</th>\n",
       "      <th>PTS.1</th>\n",
       "      <th>OT</th>\n",
       "      <th>Attendance</th>\n",
       "      <th>LOG</th>\n",
       "      <th>Arena</th>\n",
       "      <th>Notes</th>\n",
       "    </tr>\n",
       "  </thead>\n",
       "  <tbody>\n",
       "    <tr>\n",
       "      <th>0</th>\n",
       "      <td>2024-10-22</td>\n",
       "      <td>7:30p</td>\n",
       "      <td>NYK</td>\n",
       "      <td>109</td>\n",
       "      <td>BOS</td>\n",
       "      <td>132</td>\n",
       "      <td>0</td>\n",
       "      <td>19156</td>\n",
       "      <td>2:04</td>\n",
       "      <td>TD Garden</td>\n",
       "      <td>NaN</td>\n",
       "    </tr>\n",
       "    <tr>\n",
       "      <th>1</th>\n",
       "      <td>2024-10-22</td>\n",
       "      <td>10:00p</td>\n",
       "      <td>MIN</td>\n",
       "      <td>103</td>\n",
       "      <td>LAL</td>\n",
       "      <td>110</td>\n",
       "      <td>0</td>\n",
       "      <td>18997</td>\n",
       "      <td>2:26</td>\n",
       "      <td>Crypto.com Arena</td>\n",
       "      <td>NaN</td>\n",
       "    </tr>\n",
       "    <tr>\n",
       "      <th>2</th>\n",
       "      <td>2024-10-23</td>\n",
       "      <td>7:00p</td>\n",
       "      <td>IND</td>\n",
       "      <td>115</td>\n",
       "      <td>DET</td>\n",
       "      <td>109</td>\n",
       "      <td>0</td>\n",
       "      <td>20062</td>\n",
       "      <td>2:23</td>\n",
       "      <td>Little Caesars Arena</td>\n",
       "      <td>NaN</td>\n",
       "    </tr>\n",
       "    <tr>\n",
       "      <th>3</th>\n",
       "      <td>2024-10-23</td>\n",
       "      <td>7:30p</td>\n",
       "      <td>BKN</td>\n",
       "      <td>116</td>\n",
       "      <td>ATL</td>\n",
       "      <td>120</td>\n",
       "      <td>0</td>\n",
       "      <td>17548</td>\n",
       "      <td>2:33</td>\n",
       "      <td>State Farm Arena</td>\n",
       "      <td>NaN</td>\n",
       "    </tr>\n",
       "    <tr>\n",
       "      <th>4</th>\n",
       "      <td>2024-10-23</td>\n",
       "      <td>7:30p</td>\n",
       "      <td>ORL</td>\n",
       "      <td>116</td>\n",
       "      <td>MIA</td>\n",
       "      <td>97</td>\n",
       "      <td>0</td>\n",
       "      <td>19630</td>\n",
       "      <td>2:31</td>\n",
       "      <td>Kaseya Center</td>\n",
       "      <td>NaN</td>\n",
       "    </tr>\n",
       "  </tbody>\n",
       "</table>\n",
       "</div>"
      ],
      "text/plain": [
       "        Date Start (ET) Visitor/Neutral  PTS Home/Neutral  PTS.1 OT  \\\n",
       "0 2024-10-22      7:30p             NYK  109          BOS    132  0   \n",
       "1 2024-10-22     10:00p             MIN  103          LAL    110  0   \n",
       "2 2024-10-23      7:00p             IND  115          DET    109  0   \n",
       "3 2024-10-23      7:30p             BKN  116          ATL    120  0   \n",
       "4 2024-10-23      7:30p             ORL  116          MIA     97  0   \n",
       "\n",
       "   Attendance   LOG                 Arena Notes  \n",
       "0       19156  2:04             TD Garden   NaN  \n",
       "1       18997  2:26      Crypto.com Arena   NaN  \n",
       "2       20062  2:23  Little Caesars Arena   NaN  \n",
       "3       17548  2:33      State Farm Arena   NaN  \n",
       "4       19630  2:31         Kaseya Center   NaN  "
      ]
     },
     "execution_count": 33,
     "metadata": {},
     "output_type": "execute_result"
    }
   ],
   "source": [
    "schedule['Visitor/Neutral'] = schedule['Visitor/Neutral'].replace(team_abbrev)\n",
    "schedule['Home/Neutral'] = schedule['Home/Neutral'].replace(team_abbrev)\n",
    "schedule.head()"
   ]
  },
  {
   "cell_type": "code",
   "execution_count": 34,
   "id": "b40fca26",
   "metadata": {},
   "outputs": [
    {
     "data": {
      "text/plain": [
       "30"
      ]
     },
     "execution_count": 34,
     "metadata": {},
     "output_type": "execute_result"
    }
   ],
   "source": [
    "teams = list(schedule['Home/Neutral'].unique())\n",
    "len(teams)"
   ]
  },
  {
   "cell_type": "code",
   "execution_count": 37,
   "id": "e46ea392",
   "metadata": {},
   "outputs": [
    {
     "data": {
      "text/html": [
       "<div>\n",
       "<style scoped>\n",
       "    .dataframe tbody tr th:only-of-type {\n",
       "        vertical-align: middle;\n",
       "    }\n",
       "\n",
       "    .dataframe tbody tr th {\n",
       "        vertical-align: top;\n",
       "    }\n",
       "\n",
       "    .dataframe thead th {\n",
       "        text-align: right;\n",
       "    }\n",
       "</style>\n",
       "<table border=\"1\" class=\"dataframe\">\n",
       "  <thead>\n",
       "    <tr style=\"text-align: right;\">\n",
       "      <th></th>\n",
       "      <th>Date</th>\n",
       "      <th>Start (ET)</th>\n",
       "      <th>Visitor/Neutral</th>\n",
       "      <th>PTS</th>\n",
       "      <th>Home/Neutral</th>\n",
       "      <th>PTS.1</th>\n",
       "      <th>OT</th>\n",
       "      <th>Attendance</th>\n",
       "      <th>LOG</th>\n",
       "      <th>Arena</th>\n",
       "      <th>Notes</th>\n",
       "    </tr>\n",
       "  </thead>\n",
       "  <tbody>\n",
       "    <tr>\n",
       "      <th>0</th>\n",
       "      <td>2024-10-22</td>\n",
       "      <td>7:30p</td>\n",
       "      <td>NYK</td>\n",
       "      <td>109</td>\n",
       "      <td>BOS</td>\n",
       "      <td>132</td>\n",
       "      <td>0</td>\n",
       "      <td>19156</td>\n",
       "      <td>2:04</td>\n",
       "      <td>TD Garden</td>\n",
       "      <td>NaN</td>\n",
       "    </tr>\n",
       "    <tr>\n",
       "      <th>20</th>\n",
       "      <td>2024-10-25</td>\n",
       "      <td>7:30p</td>\n",
       "      <td>IND</td>\n",
       "      <td>98</td>\n",
       "      <td>NYK</td>\n",
       "      <td>123</td>\n",
       "      <td>0</td>\n",
       "      <td>19812</td>\n",
       "      <td>2:21</td>\n",
       "      <td>Madison Square Garden (IV)</td>\n",
       "      <td>NaN</td>\n",
       "    </tr>\n",
       "    <tr>\n",
       "      <th>46</th>\n",
       "      <td>2024-10-28</td>\n",
       "      <td>7:30p</td>\n",
       "      <td>CLE</td>\n",
       "      <td>110</td>\n",
       "      <td>NYK</td>\n",
       "      <td>104</td>\n",
       "      <td>0</td>\n",
       "      <td>19812</td>\n",
       "      <td>2:23</td>\n",
       "      <td>Madison Square Garden (IV)</td>\n",
       "      <td>NaN</td>\n",
       "    </tr>\n",
       "    <tr>\n",
       "      <th>61</th>\n",
       "      <td>2024-10-30</td>\n",
       "      <td>7:30p</td>\n",
       "      <td>NYK</td>\n",
       "      <td>116</td>\n",
       "      <td>MIA</td>\n",
       "      <td>107</td>\n",
       "      <td>0</td>\n",
       "      <td>19620</td>\n",
       "      <td>2:10</td>\n",
       "      <td>Kaseya Center</td>\n",
       "      <td>NaN</td>\n",
       "    </tr>\n",
       "    <tr>\n",
       "      <th>73</th>\n",
       "      <td>2024-11-01</td>\n",
       "      <td>7:00p</td>\n",
       "      <td>NYK</td>\n",
       "      <td>128</td>\n",
       "      <td>DET</td>\n",
       "      <td>98</td>\n",
       "      <td>0</td>\n",
       "      <td>17022</td>\n",
       "      <td>1:55</td>\n",
       "      <td>Little Caesars Arena</td>\n",
       "      <td>NaN</td>\n",
       "    </tr>\n",
       "    <tr>\n",
       "      <th>...</th>\n",
       "      <td>...</td>\n",
       "      <td>...</td>\n",
       "      <td>...</td>\n",
       "      <td>...</td>\n",
       "      <td>...</td>\n",
       "      <td>...</td>\n",
       "      <td>...</td>\n",
       "      <td>...</td>\n",
       "      <td>...</td>\n",
       "      <td>...</td>\n",
       "      <td>...</td>\n",
       "    </tr>\n",
       "    <tr>\n",
       "      <th>1170</th>\n",
       "      <td>2025-04-06</td>\n",
       "      <td>7:00p</td>\n",
       "      <td>PHX</td>\n",
       "      <td>98</td>\n",
       "      <td>NYK</td>\n",
       "      <td>112</td>\n",
       "      <td>0</td>\n",
       "      <td>19812</td>\n",
       "      <td>2:14</td>\n",
       "      <td>Madison Square Garden (IV)</td>\n",
       "      <td>NaN</td>\n",
       "    </tr>\n",
       "    <tr>\n",
       "      <th>1181</th>\n",
       "      <td>2025-04-08</td>\n",
       "      <td>7:30p</td>\n",
       "      <td>BOS</td>\n",
       "      <td>119</td>\n",
       "      <td>NYK</td>\n",
       "      <td>117</td>\n",
       "      <td>1</td>\n",
       "      <td>19812</td>\n",
       "      <td>2:42</td>\n",
       "      <td>Madison Square Garden (IV)</td>\n",
       "      <td>NaN</td>\n",
       "    </tr>\n",
       "    <tr>\n",
       "      <th>1196</th>\n",
       "      <td>2025-04-10</td>\n",
       "      <td>7:00p</td>\n",
       "      <td>NYK</td>\n",
       "      <td>106</td>\n",
       "      <td>DET</td>\n",
       "      <td>115</td>\n",
       "      <td>0</td>\n",
       "      <td>20062</td>\n",
       "      <td>2:16</td>\n",
       "      <td>Little Caesars Arena</td>\n",
       "      <td>NaN</td>\n",
       "    </tr>\n",
       "    <tr>\n",
       "      <th>1205</th>\n",
       "      <td>2025-04-11</td>\n",
       "      <td>7:30p</td>\n",
       "      <td>CLE</td>\n",
       "      <td>108</td>\n",
       "      <td>NYK</td>\n",
       "      <td>102</td>\n",
       "      <td>0</td>\n",
       "      <td>19812</td>\n",
       "      <td>2:18</td>\n",
       "      <td>Madison Square Garden (IV)</td>\n",
       "      <td>NaN</td>\n",
       "    </tr>\n",
       "    <tr>\n",
       "      <th>1218</th>\n",
       "      <td>2025-04-13</td>\n",
       "      <td>1:00p</td>\n",
       "      <td>NYK</td>\n",
       "      <td>113</td>\n",
       "      <td>BKN</td>\n",
       "      <td>105</td>\n",
       "      <td>0</td>\n",
       "      <td>17926</td>\n",
       "      <td>2:22</td>\n",
       "      <td>Barclays Center</td>\n",
       "      <td>NaN</td>\n",
       "    </tr>\n",
       "  </tbody>\n",
       "</table>\n",
       "<p>82 rows × 11 columns</p>\n",
       "</div>"
      ],
      "text/plain": [
       "           Date Start (ET) Visitor/Neutral  PTS Home/Neutral  PTS.1 OT  \\\n",
       "0    2024-10-22      7:30p             NYK  109          BOS    132  0   \n",
       "20   2024-10-25      7:30p             IND   98          NYK    123  0   \n",
       "46   2024-10-28      7:30p             CLE  110          NYK    104  0   \n",
       "61   2024-10-30      7:30p             NYK  116          MIA    107  0   \n",
       "73   2024-11-01      7:00p             NYK  128          DET     98  0   \n",
       "...         ...        ...             ...  ...          ...    ... ..   \n",
       "1170 2025-04-06      7:00p             PHX   98          NYK    112  0   \n",
       "1181 2025-04-08      7:30p             BOS  119          NYK    117  1   \n",
       "1196 2025-04-10      7:00p             NYK  106          DET    115  0   \n",
       "1205 2025-04-11      7:30p             CLE  108          NYK    102  0   \n",
       "1218 2025-04-13      1:00p             NYK  113          BKN    105  0   \n",
       "\n",
       "      Attendance   LOG                       Arena Notes  \n",
       "0          19156  2:04                   TD Garden   NaN  \n",
       "20         19812  2:21  Madison Square Garden (IV)   NaN  \n",
       "46         19812  2:23  Madison Square Garden (IV)   NaN  \n",
       "61         19620  2:10               Kaseya Center   NaN  \n",
       "73         17022  1:55        Little Caesars Arena   NaN  \n",
       "...          ...   ...                         ...   ...  \n",
       "1170       19812  2:14  Madison Square Garden (IV)   NaN  \n",
       "1181       19812  2:42  Madison Square Garden (IV)   NaN  \n",
       "1196       20062  2:16        Little Caesars Arena   NaN  \n",
       "1205       19812  2:18  Madison Square Garden (IV)   NaN  \n",
       "1218       17926  2:22             Barclays Center   NaN  \n",
       "\n",
       "[82 rows x 11 columns]"
      ]
     },
     "execution_count": 37,
     "metadata": {},
     "output_type": "execute_result"
    }
   ],
   "source": [
    "team_schedules = {}\n",
    "for team in teams:\n",
    "    team_df = schedule[(schedule['Visitor/Neutral'] == team) | (schedule['Home/Neutral'] == team)]\n",
    "    team_schedules[team] = team_df\n",
    "team_schedules['NYK']"
   ]
  },
  {
   "cell_type": "code",
   "execution_count": 42,
   "id": "bcb6eeef",
   "metadata": {},
   "outputs": [
    {
     "data": {
      "text/plain": [
       "{'BOS': Timedelta('2 days 03:15:33.333333333'),\n",
       " 'LAL': Timedelta('2 days 03:15:33.333333333'),\n",
       " 'DET': Timedelta('2 days 02:57:46.666666666'),\n",
       " 'ATL': Timedelta('2 days 02:57:46.666666666'),\n",
       " 'MIA': Timedelta('2 days 02:57:46.666666666'),\n",
       " 'PHI': Timedelta('2 days 02:57:46.666666666'),\n",
       " 'TOR': Timedelta('2 days 02:57:46.666666666'),\n",
       " 'HOU': Timedelta('2 days 02:57:46.666666666'),\n",
       " 'NOP': Timedelta('2 days 02:57:46.666666666'),\n",
       " 'UTA': Timedelta('2 days 02:57:46.666666666'),\n",
       " 'LAC': Timedelta('2 days 02:57:46.666666666'),\n",
       " 'POR': Timedelta('2 days 02:57:46.666666666'),\n",
       " 'WAS': Timedelta('2 days 02:40:00'),\n",
       " 'DAL': Timedelta('2 days 02:40:00'),\n",
       " 'SAC': Timedelta('2 days 02:40:00'),\n",
       " 'DEN': Timedelta('2 days 02:40:00'),\n",
       " 'ORL': Timedelta('2 days 02:57:46.666666666'),\n",
       " 'CLE': Timedelta('2 days 02:57:46.666666666'),\n",
       " 'NYK': Timedelta('2 days 03:15:33.333333333'),\n",
       " 'MIL': Timedelta('2 days 02:20:29.268292682'),\n",
       " 'CHA': Timedelta('2 days 02:57:46.666666666'),\n",
       " 'MEM': Timedelta('2 days 02:57:46.666666666'),\n",
       " 'MIN': Timedelta('2 days 03:15:33.333333333'),\n",
       " 'CHI': Timedelta('2 days 02:57:46.666666666'),\n",
       " 'SAS': Timedelta('2 days 02:40:00'),\n",
       " 'PHX': Timedelta('2 days 02:57:46.666666666'),\n",
       " 'IND': Timedelta('2 days 02:57:46.666666666'),\n",
       " 'BKN': Timedelta('2 days 02:57:46.666666666'),\n",
       " 'OKC': Timedelta('2 days 02:02:55.609756097'),\n",
       " 'GSW': Timedelta('2 days 02:57:46.666666666')}"
      ]
     },
     "execution_count": 42,
     "metadata": {},
     "output_type": "execute_result"
    }
   ],
   "source": [
    "avg_rest_between_games = {}\n",
    "for team, team_schedule in team_schedules.items():\n",
    "    avg_rest = team_schedule['Date'].diff().mean()\n",
    "    avg_rest_between_games[team] = avg_rest\n",
    "avg_rest_between_games"
   ]
  },
  {
   "cell_type": "code",
   "execution_count": 43,
   "id": "1e352b5c",
   "metadata": {},
   "outputs": [
    {
     "data": {
      "text/plain": [
       "{'BOS': np.float64(18838.475609756097),\n",
       " 'LAL': np.float64(18759.426829268294),\n",
       " 'DET': np.float64(18543.817073170732),\n",
       " 'ATL': np.float64(17284.560975609755),\n",
       " 'MIA': np.float64(18958.09756097561),\n",
       " 'PHI': np.float64(18858.89024390244),\n",
       " 'TOR': np.float64(18387.98780487805),\n",
       " 'HOU': np.float64(17745.01219512195),\n",
       " 'NOP': np.float64(17384.060975609755),\n",
       " 'UTA': np.float64(17936.451219512193),\n",
       " 'LAC': np.float64(17389.256097560974),\n",
       " 'POR': np.float64(17676.085365853658),\n",
       " 'WAS': np.float64(17161.90243902439),\n",
       " 'DAL': np.float64(19052.231707317074),\n",
       " 'SAC': np.float64(17459.939024390245),\n",
       " 'DEN': np.float64(18939.682926829268),\n",
       " 'ORL': np.float64(18296.853658536584),\n",
       " 'CLE': np.float64(18936.939024390245),\n",
       " 'NYK': np.float64(19132.70731707317),\n",
       " 'MIL': np.float64(17889.67469879518),\n",
       " 'CHA': np.float64(17741.60975609756),\n",
       " 'MEM': np.float64(17395.89024390244),\n",
       " 'MIN': np.float64(18497.158536585364),\n",
       " 'CHI': np.float64(19182.719512195123),\n",
       " 'SAS': np.float64(17988.073170731706),\n",
       " 'PHX': np.float64(17598.182926829268),\n",
       " 'IND': np.float64(17244.219512195123),\n",
       " 'BKN': np.float64(17720.439024390245),\n",
       " 'OKC': np.float64(18115.277108433736),\n",
       " 'GSW': np.float64(18314.048780487807)}"
      ]
     },
     "execution_count": 43,
     "metadata": {},
     "output_type": "execute_result"
    }
   ],
   "source": [
    "avg_attendances = {}\n",
    "for team, team_schedule in team_schedules.items():\n",
    "    avg_attendance = team_schedule['Attendance'].mean()\n",
    "    avg_attendances[team] = avg_attendance\n",
    "avg_attendances"
   ]
  },
  {
   "cell_type": "code",
   "execution_count": 47,
   "id": "8e194e5a",
   "metadata": {},
   "outputs": [
    {
     "data": {
      "application/vnd.plotly.v1+json": {
       "config": {
        "plotlyServerURL": "https://plot.ly"
       },
       "data": [
        {
         "hovertemplate": "Attendance=%{x}<br>PTS=%{y}<extra></extra>",
         "legendgroup": "",
         "marker": {
          "color": "#636efa",
          "symbol": "circle"
         },
         "mode": "markers",
         "name": "",
         "showlegend": false,
         "type": "scattergl",
         "x": {
          "bdata": "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",
          "dtype": "i2"
         },
         "xaxis": "x",
         "y": {
          "bdata": "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",
          "dtype": "i2"
         },
         "yaxis": "y"
        }
       ],
       "layout": {
        "legend": {
         "tracegroupgap": 0
        },
        "margin": {
         "t": 60
        },
        "template": {
         "data": {
          "bar": [
           {
            "error_x": {
             "color": "#2a3f5f"
            },
            "error_y": {
             "color": "#2a3f5f"
            },
            "marker": {
             "line": {
              "color": "#E5ECF6",
              "width": 0.5
             },
             "pattern": {
              "fillmode": "overlay",
              "size": 10,
              "solidity": 0.2
             }
            },
            "type": "bar"
           }
          ],
          "barpolar": [
           {
            "marker": {
             "line": {
              "color": "#E5ECF6",
              "width": 0.5
             },
             "pattern": {
              "fillmode": "overlay",
              "size": 10,
              "solidity": 0.2
             }
            },
            "type": "barpolar"
           }
          ],
          "carpet": [
           {
            "aaxis": {
             "endlinecolor": "#2a3f5f",
             "gridcolor": "white",
             "linecolor": "white",
             "minorgridcolor": "white",
             "startlinecolor": "#2a3f5f"
            },
            "baxis": {
             "endlinecolor": "#2a3f5f",
             "gridcolor": "white",
             "linecolor": "white",
             "minorgridcolor": "white",
             "startlinecolor": "#2a3f5f"
            },
            "type": "carpet"
           }
          ],
          "choropleth": [
           {
            "colorbar": {
             "outlinewidth": 0,
             "ticks": ""
            },
            "type": "choropleth"
           }
          ],
          "contour": [
           {
            "colorbar": {
             "outlinewidth": 0,
             "ticks": ""
            },
            "colorscale": [
             [
              0,
              "#0d0887"
             ],
             [
              0.1111111111111111,
              "#46039f"
             ],
             [
              0.2222222222222222,
              "#7201a8"
             ],
             [
              0.3333333333333333,
              "#9c179e"
             ],
             [
              0.4444444444444444,
              "#bd3786"
             ],
             [
              0.5555555555555556,
              "#d8576b"
             ],
             [
              0.6666666666666666,
              "#ed7953"
             ],
             [
              0.7777777777777778,
              "#fb9f3a"
             ],
             [
              0.8888888888888888,
              "#fdca26"
             ],
             [
              1,
              "#f0f921"
             ]
            ],
            "type": "contour"
           }
          ],
          "contourcarpet": [
           {
            "colorbar": {
             "outlinewidth": 0,
             "ticks": ""
            },
            "type": "contourcarpet"
           }
          ],
          "heatmap": [
           {
            "colorbar": {
             "outlinewidth": 0,
             "ticks": ""
            },
            "colorscale": [
             [
              0,
              "#0d0887"
             ],
             [
              0.1111111111111111,
              "#46039f"
             ],
             [
              0.2222222222222222,
              "#7201a8"
             ],
             [
              0.3333333333333333,
              "#9c179e"
             ],
             [
              0.4444444444444444,
              "#bd3786"
             ],
             [
              0.5555555555555556,
              "#d8576b"
             ],
             [
              0.6666666666666666,
              "#ed7953"
             ],
             [
              0.7777777777777778,
              "#fb9f3a"
             ],
             [
              0.8888888888888888,
              "#fdca26"
             ],
             [
              1,
              "#f0f921"
             ]
            ],
            "type": "heatmap"
           }
          ],
          "histogram": [
           {
            "marker": {
             "pattern": {
              "fillmode": "overlay",
              "size": 10,
              "solidity": 0.2
             }
            },
            "type": "histogram"
           }
          ],
          "histogram2d": [
           {
            "colorbar": {
             "outlinewidth": 0,
             "ticks": ""
            },
            "colorscale": [
             [
              0,
              "#0d0887"
             ],
             [
              0.1111111111111111,
              "#46039f"
             ],
             [
              0.2222222222222222,
              "#7201a8"
             ],
             [
              0.3333333333333333,
              "#9c179e"
             ],
             [
              0.4444444444444444,
              "#bd3786"
             ],
             [
              0.5555555555555556,
              "#d8576b"
             ],
             [
              0.6666666666666666,
              "#ed7953"
             ],
             [
              0.7777777777777778,
              "#fb9f3a"
             ],
             [
              0.8888888888888888,
              "#fdca26"
             ],
             [
              1,
              "#f0f921"
             ]
            ],
            "type": "histogram2d"
           }
          ],
          "histogram2dcontour": [
           {
            "colorbar": {
             "outlinewidth": 0,
             "ticks": ""
            },
            "colorscale": [
             [
              0,
              "#0d0887"
             ],
             [
              0.1111111111111111,
              "#46039f"
             ],
             [
              0.2222222222222222,
              "#7201a8"
             ],
             [
              0.3333333333333333,
              "#9c179e"
             ],
             [
              0.4444444444444444,
              "#bd3786"
             ],
             [
              0.5555555555555556,
              "#d8576b"
             ],
             [
              0.6666666666666666,
              "#ed7953"
             ],
             [
              0.7777777777777778,
              "#fb9f3a"
             ],
             [
              0.8888888888888888,
              "#fdca26"
             ],
             [
              1,
              "#f0f921"
             ]
            ],
            "type": "histogram2dcontour"
           }
          ],
          "mesh3d": [
           {
            "colorbar": {
             "outlinewidth": 0,
             "ticks": ""
            },
            "type": "mesh3d"
           }
          ],
          "parcoords": [
           {
            "line": {
             "colorbar": {
              "outlinewidth": 0,
              "ticks": ""
             }
            },
            "type": "parcoords"
           }
          ],
          "pie": [
           {
            "automargin": true,
            "type": "pie"
           }
          ],
          "scatter": [
           {
            "fillpattern": {
             "fillmode": "overlay",
             "size": 10,
             "solidity": 0.2
            },
            "type": "scatter"
           }
          ],
          "scatter3d": [
           {
            "line": {
             "colorbar": {
              "outlinewidth": 0,
              "ticks": ""
             }
            },
            "marker": {
             "colorbar": {
              "outlinewidth": 0,
              "ticks": ""
             }
            },
            "type": "scatter3d"
           }
          ],
          "scattercarpet": [
           {
            "marker": {
             "colorbar": {
              "outlinewidth": 0,
              "ticks": ""
             }
            },
            "type": "scattercarpet"
           }
          ],
          "scattergeo": [
           {
            "marker": {
             "colorbar": {
              "outlinewidth": 0,
              "ticks": ""
             }
            },
            "type": "scattergeo"
           }
          ],
          "scattergl": [
           {
            "marker": {
             "colorbar": {
              "outlinewidth": 0,
              "ticks": ""
             }
            },
            "type": "scattergl"
           }
          ],
          "scattermap": [
           {
            "marker": {
             "colorbar": {
              "outlinewidth": 0,
              "ticks": ""
             }
            },
            "type": "scattermap"
           }
          ],
          "scattermapbox": [
           {
            "marker": {
             "colorbar": {
              "outlinewidth": 0,
              "ticks": ""
             }
            },
            "type": "scattermapbox"
           }
          ],
          "scatterpolar": [
           {
            "marker": {
             "colorbar": {
              "outlinewidth": 0,
              "ticks": ""
             }
            },
            "type": "scatterpolar"
           }
          ],
          "scatterpolargl": [
           {
            "marker": {
             "colorbar": {
              "outlinewidth": 0,
              "ticks": ""
             }
            },
            "type": "scatterpolargl"
           }
          ],
          "scatterternary": [
           {
            "marker": {
             "colorbar": {
              "outlinewidth": 0,
              "ticks": ""
             }
            },
            "type": "scatterternary"
           }
          ],
          "surface": [
           {
            "colorbar": {
             "outlinewidth": 0,
             "ticks": ""
            },
            "colorscale": [
             [
              0,
              "#0d0887"
             ],
             [
              0.1111111111111111,
              "#46039f"
             ],
             [
              0.2222222222222222,
              "#7201a8"
             ],
             [
              0.3333333333333333,
              "#9c179e"
             ],
             [
              0.4444444444444444,
              "#bd3786"
             ],
             [
              0.5555555555555556,
              "#d8576b"
             ],
             [
              0.6666666666666666,
              "#ed7953"
             ],
             [
              0.7777777777777778,
              "#fb9f3a"
             ],
             [
              0.8888888888888888,
              "#fdca26"
             ],
             [
              1,
              "#f0f921"
             ]
            ],
            "type": "surface"
           }
          ],
          "table": [
           {
            "cells": {
             "fill": {
              "color": "#EBF0F8"
             },
             "line": {
              "color": "white"
             }
            },
            "header": {
             "fill": {
              "color": "#C8D4E3"
             },
             "line": {
              "color": "white"
             }
            },
            "type": "table"
           }
          ]
         },
         "layout": {
          "annotationdefaults": {
           "arrowcolor": "#2a3f5f",
           "arrowhead": 0,
           "arrowwidth": 1
          },
          "autotypenumbers": "strict",
          "coloraxis": {
           "colorbar": {
            "outlinewidth": 0,
            "ticks": ""
           }
          },
          "colorscale": {
           "diverging": [
            [
             0,
             "#8e0152"
            ],
            [
             0.1,
             "#c51b7d"
            ],
            [
             0.2,
             "#de77ae"
            ],
            [
             0.3,
             "#f1b6da"
            ],
            [
             0.4,
             "#fde0ef"
            ],
            [
             0.5,
             "#f7f7f7"
            ],
            [
             0.6,
             "#e6f5d0"
            ],
            [
             0.7,
             "#b8e186"
            ],
            [
             0.8,
             "#7fbc41"
            ],
            [
             0.9,
             "#4d9221"
            ],
            [
             1,
             "#276419"
            ]
           ],
           "sequential": [
            [
             0,
             "#0d0887"
            ],
            [
             0.1111111111111111,
             "#46039f"
            ],
            [
             0.2222222222222222,
             "#7201a8"
            ],
            [
             0.3333333333333333,
             "#9c179e"
            ],
            [
             0.4444444444444444,
             "#bd3786"
            ],
            [
             0.5555555555555556,
             "#d8576b"
            ],
            [
             0.6666666666666666,
             "#ed7953"
            ],
            [
             0.7777777777777778,
             "#fb9f3a"
            ],
            [
             0.8888888888888888,
             "#fdca26"
            ],
            [
             1,
             "#f0f921"
            ]
           ],
           "sequentialminus": [
            [
             0,
             "#0d0887"
            ],
            [
             0.1111111111111111,
             "#46039f"
            ],
            [
             0.2222222222222222,
             "#7201a8"
            ],
            [
             0.3333333333333333,
             "#9c179e"
            ],
            [
             0.4444444444444444,
             "#bd3786"
            ],
            [
             0.5555555555555556,
             "#d8576b"
            ],
            [
             0.6666666666666666,
             "#ed7953"
            ],
            [
             0.7777777777777778,
             "#fb9f3a"
            ],
            [
             0.8888888888888888,
             "#fdca26"
            ],
            [
             1,
             "#f0f921"
            ]
           ]
          },
          "colorway": [
           "#636efa",
           "#EF553B",
           "#00cc96",
           "#ab63fa",
           "#FFA15A",
           "#19d3f3",
           "#FF6692",
           "#B6E880",
           "#FF97FF",
           "#FECB52"
          ],
          "font": {
           "color": "#2a3f5f"
          },
          "geo": {
           "bgcolor": "white",
           "lakecolor": "white",
           "landcolor": "#E5ECF6",
           "showlakes": true,
           "showland": true,
           "subunitcolor": "white"
          },
          "hoverlabel": {
           "align": "left"
          },
          "hovermode": "closest",
          "mapbox": {
           "style": "light"
          },
          "paper_bgcolor": "white",
          "plot_bgcolor": "#E5ECF6",
          "polar": {
           "angularaxis": {
            "gridcolor": "white",
            "linecolor": "white",
            "ticks": ""
           },
           "bgcolor": "#E5ECF6",
           "radialaxis": {
            "gridcolor": "white",
            "linecolor": "white",
            "ticks": ""
           }
          },
          "scene": {
           "xaxis": {
            "backgroundcolor": "#E5ECF6",
            "gridcolor": "white",
            "gridwidth": 2,
            "linecolor": "white",
            "showbackground": true,
            "ticks": "",
            "zerolinecolor": "white"
           },
           "yaxis": {
            "backgroundcolor": "#E5ECF6",
            "gridcolor": "white",
            "gridwidth": 2,
            "linecolor": "white",
            "showbackground": true,
            "ticks": "",
            "zerolinecolor": "white"
           },
           "zaxis": {
            "backgroundcolor": "#E5ECF6",
            "gridcolor": "white",
            "gridwidth": 2,
            "linecolor": "white",
            "showbackground": true,
            "ticks": "",
            "zerolinecolor": "white"
           }
          },
          "shapedefaults": {
           "line": {
            "color": "#2a3f5f"
           }
          },
          "ternary": {
           "aaxis": {
            "gridcolor": "white",
            "linecolor": "white",
            "ticks": ""
           },
           "baxis": {
            "gridcolor": "white",
            "linecolor": "white",
            "ticks": ""
           },
           "bgcolor": "#E5ECF6",
           "caxis": {
            "gridcolor": "white",
            "linecolor": "white",
            "ticks": ""
           }
          },
          "title": {
           "x": 0.05
          },
          "xaxis": {
           "automargin": true,
           "gridcolor": "white",
           "linecolor": "white",
           "ticks": "",
           "title": {
            "standoff": 15
           },
           "zerolinecolor": "white",
           "zerolinewidth": 2
          },
          "yaxis": {
           "automargin": true,
           "gridcolor": "white",
           "linecolor": "white",
           "ticks": "",
           "title": {
            "standoff": 15
           },
           "zerolinecolor": "white",
           "zerolinewidth": 2
          }
         }
        },
        "xaxis": {
         "anchor": "y",
         "domain": [
          0,
          1
         ],
         "title": {
          "text": "Attendance"
         }
        },
        "yaxis": {
         "anchor": "x",
         "domain": [
          0,
          1
         ],
         "title": {
          "text": "PTS"
         }
        }
       }
      }
     },
     "metadata": {},
     "output_type": "display_data"
    }
   ],
   "source": [
    "px.scatter(schedule, x='Attendance', y='PTS')"
   ]
  },
  {
   "cell_type": "code",
   "execution_count": null,
   "id": "2cebeffd",
   "metadata": {},
   "outputs": [],
   "source": []
  }
 ],
 "metadata": {
  "kernelspec": {
   "display_name": "base",
   "language": "python",
   "name": "python3"
  },
  "language_info": {
   "codemirror_mode": {
    "name": "ipython",
    "version": 3
   },
   "file_extension": ".py",
   "mimetype": "text/x-python",
   "name": "python",
   "nbconvert_exporter": "python",
   "pygments_lexer": "ipython3",
   "version": "3.12.8"
  }
 },
 "nbformat": 4,
 "nbformat_minor": 5
}
